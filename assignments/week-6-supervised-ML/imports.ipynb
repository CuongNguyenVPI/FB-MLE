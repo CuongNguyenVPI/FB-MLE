{
 "cells": [
  {
   "cell_type": "code",
   "execution_count": 2,
   "metadata": {},
   "outputs": [
    {
     "name": "stdout",
     "output_type": "stream",
     "text": [
      "Collecting pandas-profiling\n",
      "  Downloading pandas_profiling-3.3.0-py2.py3-none-any.whl (268 kB)\n",
      "\u001b[2K     \u001b[90m━━━━━━━━━━━━━━━━━━━━━━━━━━━━━━━━━━━━━\u001b[0m \u001b[32m268.0/268.0 kB\u001b[0m \u001b[31m400.9 kB/s\u001b[0m eta \u001b[36m0:00:00\u001b[0ma \u001b[36m0:00:01\u001b[0m\n",
      "\u001b[?25hRequirement already satisfied: matplotlib<3.6,>=3.2 in /Users/vpi/miniforge3/envs/sa/lib/python3.8/site-packages (from pandas-profiling) (3.5.3)\n",
      "Requirement already satisfied: numpy<1.24,>=1.16.0 in /Users/vpi/miniforge3/envs/sa/lib/python3.8/site-packages (from pandas-profiling) (1.23.2)\n",
      "Requirement already satisfied: tqdm<4.65,>=4.48.2 in /Users/vpi/miniforge3/envs/sa/lib/python3.8/site-packages (from pandas-profiling) (4.64.0)\n",
      "Requirement already satisfied: pandas!=1.4.0,<1.5,>1.1 in /Users/vpi/miniforge3/envs/sa/lib/python3.8/site-packages (from pandas-profiling) (1.4.3)\n",
      "Requirement already satisfied: seaborn<0.12,>=0.10.1 in /Users/vpi/miniforge3/envs/sa/lib/python3.8/site-packages (from pandas-profiling) (0.11.2)\n",
      "Collecting statsmodels<0.14,>=0.13.2\n",
      "  Downloading statsmodels-0.13.2-cp38-cp38-macosx_11_0_arm64.whl (9.1 MB)\n",
      "\u001b[2K     \u001b[90m━━━━━━━━━━━━━━━━━━━━━━━━━━━━━━━━━━━━━━━━\u001b[0m \u001b[32m9.1/9.1 MB\u001b[0m \u001b[31m1.8 MB/s\u001b[0m eta \u001b[36m0:00:00\u001b[0m00:01\u001b[0m00:01\u001b[0m0m\n",
      "\u001b[?25hCollecting visions[type_image_path]==0.7.5\n",
      "  Downloading visions-0.7.5-py3-none-any.whl (102 kB)\n",
      "\u001b[2K     \u001b[90m━━━━━━━━━━━━━━━━━━━━━━━━━━━━━━━━━━━━━━━\u001b[0m \u001b[32m102.7/102.7 kB\u001b[0m \u001b[31m1.2 MB/s\u001b[0m eta \u001b[36m0:00:00\u001b[0m00:01\u001b[0m00:01\u001b[0m\n",
      "\u001b[?25hRequirement already satisfied: jinja2<3.2,>=2.11.1 in /Users/vpi/miniforge3/envs/sa/lib/python3.8/site-packages (from pandas-profiling) (3.1.2)\n",
      "Collecting phik<0.13,>=0.11.1\n",
      "  Downloading phik-0.12.2-cp38-cp38-macosx_11_0_arm64.whl (673 kB)\n",
      "\u001b[2K     \u001b[90m━━━━━━━━━━━━━━━━━━━━━━━━━━━━━━━━━━━━━━━\u001b[0m \u001b[32m674.0/674.0 kB\u001b[0m \u001b[31m2.5 MB/s\u001b[0m eta \u001b[36m0:00:00\u001b[0m00:01\u001b[0m00:01\u001b[0m\n",
      "\u001b[?25hCollecting missingno<0.6,>=0.4.2\n",
      "  Downloading missingno-0.5.1-py3-none-any.whl (8.7 kB)\n",
      "Collecting multimethod<1.9,>=1.4\n",
      "  Downloading multimethod-1.8-py3-none-any.whl (9.8 kB)\n",
      "Requirement already satisfied: scipy<1.10,>=1.4.1 in /Users/vpi/miniforge3/envs/sa/lib/python3.8/site-packages (from pandas-profiling) (1.9.1)\n",
      "Requirement already satisfied: joblib~=1.1.0 in /Users/vpi/miniforge3/envs/sa/lib/python3.8/site-packages (from pandas-profiling) (1.1.0)\n",
      "Collecting tangled-up-in-unicode==0.2.0\n",
      "  Downloading tangled_up_in_unicode-0.2.0-py3-none-any.whl (4.7 MB)\n",
      "\u001b[2K     \u001b[90m━━━━━━━━━━━━━━━━━━━━━━━━━━━━━━━━━━━━━━━━\u001b[0m \u001b[32m4.7/4.7 MB\u001b[0m \u001b[31m2.7 MB/s\u001b[0m eta \u001b[36m0:00:00\u001b[0m00:01\u001b[0m00:01\u001b[0m\n",
      "\u001b[?25hCollecting htmlmin==0.1.12\n",
      "  Downloading htmlmin-0.1.12.tar.gz (19 kB)\n",
      "  Preparing metadata (setup.py) ... \u001b[?25ldone\n",
      "\u001b[?25hCollecting pydantic<1.10,>=1.8.1\n",
      "  Downloading pydantic-1.9.2-cp38-cp38-macosx_11_0_arm64.whl (2.4 MB)\n",
      "\u001b[2K     \u001b[90m━━━━━━━━━━━━━━━━━━━━━━━━━━━━━━━━━━━━━━━━\u001b[0m \u001b[32m2.4/2.4 MB\u001b[0m \u001b[31m2.2 MB/s\u001b[0m eta \u001b[36m0:00:00\u001b[0m00:01\u001b[0m00:01\u001b[0m\n",
      "\u001b[?25hRequirement already satisfied: PyYAML<6.1,>=5.0.0 in /Users/vpi/miniforge3/envs/sa/lib/python3.8/site-packages (from pandas-profiling) (6.0)\n",
      "Requirement already satisfied: requests<2.29,>=2.24.0 in /Users/vpi/miniforge3/envs/sa/lib/python3.8/site-packages (from pandas-profiling) (2.28.1)\n",
      "Collecting networkx>=2.4\n",
      "  Downloading networkx-2.8.6-py3-none-any.whl (2.0 MB)\n",
      "\u001b[2K     \u001b[90m━━━━━━━━━━━━━━━━━━━━━━━━━━━━━━━━━━━━━━━━\u001b[0m \u001b[32m2.0/2.0 MB\u001b[0m \u001b[31m2.1 MB/s\u001b[0m eta \u001b[36m0:00:00\u001b[0m00:01\u001b[0m00:01\u001b[0m\n",
      "\u001b[?25hRequirement already satisfied: attrs>=19.3.0 in /Users/vpi/miniforge3/envs/sa/lib/python3.8/site-packages (from visions[type_image_path]==0.7.5->pandas-profiling) (22.1.0)\n",
      "Collecting imagehash\n",
      "  Downloading ImageHash-4.3.0-py2.py3-none-any.whl (296 kB)\n",
      "\u001b[2K     \u001b[90m━━━━━━━━━━━━━━━━━━━━━━━━━━━━━━━━━━━━━━━\u001b[0m \u001b[32m296.4/296.4 kB\u001b[0m \u001b[31m2.0 MB/s\u001b[0m eta \u001b[36m0:00:00\u001b[0ma \u001b[36m0:00:01\u001b[0m\n",
      "\u001b[?25hRequirement already satisfied: Pillow in /Users/vpi/miniforge3/envs/sa/lib/python3.8/site-packages (from visions[type_image_path]==0.7.5->pandas-profiling) (9.2.0)\n",
      "Requirement already satisfied: MarkupSafe>=2.0 in /Users/vpi/miniforge3/envs/sa/lib/python3.8/site-packages (from jinja2<3.2,>=2.11.1->pandas-profiling) (2.1.1)\n",
      "Requirement already satisfied: pyparsing>=2.2.1 in /Users/vpi/miniforge3/envs/sa/lib/python3.8/site-packages (from matplotlib<3.6,>=3.2->pandas-profiling) (3.0.9)\n",
      "Requirement already satisfied: python-dateutil>=2.7 in /Users/vpi/miniforge3/envs/sa/lib/python3.8/site-packages (from matplotlib<3.6,>=3.2->pandas-profiling) (2.8.2)\n",
      "Requirement already satisfied: fonttools>=4.22.0 in /Users/vpi/miniforge3/envs/sa/lib/python3.8/site-packages (from matplotlib<3.6,>=3.2->pandas-profiling) (4.37.1)\n",
      "Requirement already satisfied: kiwisolver>=1.0.1 in /Users/vpi/miniforge3/envs/sa/lib/python3.8/site-packages (from matplotlib<3.6,>=3.2->pandas-profiling) (1.4.4)\n",
      "Requirement already satisfied: cycler>=0.10 in /Users/vpi/miniforge3/envs/sa/lib/python3.8/site-packages (from matplotlib<3.6,>=3.2->pandas-profiling) (0.11.0)\n",
      "Requirement already satisfied: packaging>=20.0 in /Users/vpi/miniforge3/envs/sa/lib/python3.8/site-packages (from matplotlib<3.6,>=3.2->pandas-profiling) (21.3)\n",
      "Requirement already satisfied: pytz>=2020.1 in /Users/vpi/miniforge3/envs/sa/lib/python3.8/site-packages (from pandas!=1.4.0,<1.5,>1.1->pandas-profiling) (2022.2.1)\n",
      "Requirement already satisfied: typing-extensions>=3.7.4.3 in /Users/vpi/miniforge3/envs/sa/lib/python3.8/site-packages (from pydantic<1.10,>=1.8.1->pandas-profiling) (4.3.0)\n",
      "Requirement already satisfied: idna<4,>=2.5 in /Users/vpi/miniforge3/envs/sa/lib/python3.8/site-packages (from requests<2.29,>=2.24.0->pandas-profiling) (3.3)\n",
      "Requirement already satisfied: urllib3<1.27,>=1.21.1 in /Users/vpi/miniforge3/envs/sa/lib/python3.8/site-packages (from requests<2.29,>=2.24.0->pandas-profiling) (1.26.11)\n",
      "Requirement already satisfied: certifi>=2017.4.17 in /Users/vpi/miniforge3/envs/sa/lib/python3.8/site-packages (from requests<2.29,>=2.24.0->pandas-profiling) (2022.6.15)\n",
      "Requirement already satisfied: charset-normalizer<3,>=2 in /Users/vpi/miniforge3/envs/sa/lib/python3.8/site-packages (from requests<2.29,>=2.24.0->pandas-profiling) (2.1.1)\n",
      "Collecting patsy>=0.5.2\n",
      "  Downloading patsy-0.5.2-py2.py3-none-any.whl (233 kB)\n",
      "\u001b[2K     \u001b[90m━━━━━━━━━━━━━━━━━━━━━━━━━━━━━━━━━━━━━━━\u001b[0m \u001b[32m233.7/233.7 kB\u001b[0m \u001b[31m2.2 MB/s\u001b[0m eta \u001b[36m0:00:00\u001b[0ma \u001b[36m0:00:01\u001b[0m\n",
      "\u001b[?25hRequirement already satisfied: six in /Users/vpi/miniforge3/envs/sa/lib/python3.8/site-packages (from patsy>=0.5.2->statsmodels<0.14,>=0.13.2->pandas-profiling) (1.16.0)\n",
      "Collecting PyWavelets\n",
      "  Downloading PyWavelets-1.4.1-cp38-cp38-macosx_11_0_arm64.whl (4.3 MB)\n",
      "\u001b[2K     \u001b[90m━━━━━━━━━━━━━━━━━━━━━━━━━━━━━━━━━━━━━━━━\u001b[0m \u001b[32m4.3/4.3 MB\u001b[0m \u001b[31m2.7 MB/s\u001b[0m eta \u001b[36m0:00:00\u001b[0m00:01\u001b[0m00:01\u001b[0m\n",
      "\u001b[?25hBuilding wheels for collected packages: htmlmin\n",
      "  Building wheel for htmlmin (setup.py) ... \u001b[?25ldone\n",
      "\u001b[?25h  Created wheel for htmlmin: filename=htmlmin-0.1.12-py3-none-any.whl size=27082 sha256=8e2ecd8813fd14d71b1b3789b8621a8f9452e2ea8425dae7c2bfb5f54c270843\n",
      "  Stored in directory: /Users/vpi/Library/Caches/pip/wheels/23/14/6e/4be5bfeeb027f4939a01764b48edd5996acf574b0913fe5243\n",
      "Successfully built htmlmin\n",
      "Installing collected packages: htmlmin, tangled-up-in-unicode, PyWavelets, pydantic, patsy, networkx, multimethod, imagehash, visions, statsmodels, phik, missingno, pandas-profiling\n",
      "Successfully installed PyWavelets-1.4.1 htmlmin-0.1.12 imagehash-4.3.0 missingno-0.5.1 multimethod-1.8 networkx-2.8.6 pandas-profiling-3.3.0 patsy-0.5.2 phik-0.12.2 pydantic-1.9.2 statsmodels-0.13.2 tangled-up-in-unicode-0.2.0 visions-0.7.5\n"
     ]
    },
    {
     "ename": "ModuleNotFoundError",
     "evalue": "No module named 'plotly'",
     "output_type": "error",
     "traceback": [
      "\u001b[0;31m---------------------------------------------------------------------------\u001b[0m",
      "\u001b[0;31mModuleNotFoundError\u001b[0m                       Traceback (most recent call last)",
      "Input \u001b[0;32mIn [2]\u001b[0m, in \u001b[0;36m<cell line: 6>\u001b[0;34m()\u001b[0m\n\u001b[1;32m      4\u001b[0m \u001b[38;5;28;01mfrom\u001b[39;00m \u001b[38;5;21;01mpandas_profiling\u001b[39;00m \u001b[38;5;28;01mimport\u001b[39;00m ProfileReport\n\u001b[1;32m      5\u001b[0m \u001b[38;5;28;01mimport\u001b[39;00m \u001b[38;5;21;01mmatplotlib\u001b[39;00m\u001b[38;5;21;01m.\u001b[39;00m\u001b[38;5;21;01mpyplot\u001b[39;00m \u001b[38;5;28;01mas\u001b[39;00m \u001b[38;5;21;01mplt\u001b[39;00m\n\u001b[0;32m----> 6\u001b[0m \u001b[38;5;28;01mimport\u001b[39;00m \u001b[38;5;21;01mplotly\u001b[39;00m \n\u001b[1;32m      7\u001b[0m \u001b[38;5;28;01mimport\u001b[39;00m \u001b[38;5;21;01msklearn\u001b[39;00m \n\u001b[1;32m      8\u001b[0m \u001b[38;5;28;01mimport\u001b[39;00m \u001b[38;5;21;01mshap\u001b[39;00m\n",
      "\u001b[0;31mModuleNotFoundError\u001b[0m: No module named 'plotly'"
     ]
    }
   ],
   "source": [
    "import numpy as np\n",
    "import pandas as pd\n",
    "!pip install -U pandas-profiling\n",
    "from pandas_profiling import ProfileReport\n",
    "import matplotlib.pyplot as plt\n"
   ]
  },
  {
   "cell_type": "code",
   "execution_count": 6,
   "metadata": {},
   "outputs": [
    {
     "name": "stdout",
     "output_type": "stream",
     "text": [
      "Requirement already satisfied: plotly in /Users/vpi/miniforge3/envs/sa/lib/python3.8/site-packages (5.10.0)\r\n",
      "Requirement already satisfied: tenacity>=6.2.0 in /Users/vpi/miniforge3/envs/sa/lib/python3.8/site-packages (from plotly) (8.0.1)\r\n"
     ]
    }
   ],
   "source": [
    "!pip install plotly\n",
    "import plotly \n",
    "import sklearn "
   ]
  },
  {
   "cell_type": "code",
   "execution_count": 7,
   "metadata": {},
   "outputs": [
    {
     "name": "stdout",
     "output_type": "stream",
     "text": [
      "Collecting shap\n",
      "  Downloading shap-0.41.0.tar.gz (380 kB)\n",
      "\u001b[2K     \u001b[90m━━━━━━━━━━━━━━━━━━━━━━━━━━━━━━━━━━━━━━━\u001b[0m \u001b[32m380.1/380.1 kB\u001b[0m \u001b[31m1.2 MB/s\u001b[0m eta \u001b[36m0:00:00\u001b[0m00:01\u001b[0m00:01\u001b[0m\n",
      "\u001b[?25h  Installing build dependencies ... \u001b[?25ldone\n",
      "\u001b[?25h  Getting requirements to build wheel ... \u001b[?25ldone\n",
      "\u001b[?25h  Preparing metadata (pyproject.toml) ... \u001b[?25ldone\n",
      "\u001b[?25hCollecting slicer==0.0.7\n",
      "  Downloading slicer-0.0.7-py3-none-any.whl (14 kB)\n",
      "Requirement already satisfied: tqdm>4.25.0 in /Users/vpi/miniforge3/envs/sa/lib/python3.8/site-packages (from shap) (4.64.0)\n",
      "Requirement already satisfied: packaging>20.9 in /Users/vpi/miniforge3/envs/sa/lib/python3.8/site-packages (from shap) (21.3)\n",
      "Requirement already satisfied: scikit-learn in /Users/vpi/miniforge3/envs/sa/lib/python3.8/site-packages (from shap) (1.1.2)\n",
      "Requirement already satisfied: numpy in /Users/vpi/miniforge3/envs/sa/lib/python3.8/site-packages (from shap) (1.23.2)\n",
      "Requirement already satisfied: scipy in /Users/vpi/miniforge3/envs/sa/lib/python3.8/site-packages (from shap) (1.9.1)\n",
      "Collecting cloudpickle\n",
      "  Downloading cloudpickle-2.2.0-py3-none-any.whl (25 kB)\n",
      "Collecting numba\n",
      "  Downloading numba-0.56.2-cp38-cp38-macosx_11_0_arm64.whl (2.4 MB)\n",
      "\u001b[2K     \u001b[90m━━━━━━━━━━━━━━━━━━━━━━━━━━━━━━━━━━━━━━━━\u001b[0m \u001b[32m2.4/2.4 MB\u001b[0m \u001b[31m2.4 MB/s\u001b[0m eta \u001b[36m0:00:00\u001b[0m00:01\u001b[0m00:01\u001b[0m\n",
      "\u001b[?25hRequirement already satisfied: pandas in /Users/vpi/miniforge3/envs/sa/lib/python3.8/site-packages (from shap) (1.4.3)\n",
      "Requirement already satisfied: pyparsing!=3.0.5,>=2.0.2 in /Users/vpi/miniforge3/envs/sa/lib/python3.8/site-packages (from packaging>20.9->shap) (3.0.9)\n",
      "Collecting setuptools<60\n",
      "  Downloading setuptools-59.8.0-py3-none-any.whl (952 kB)\n",
      "\u001b[2K     \u001b[90m━━━━━━━━━━━━━━━━━━━━━━━━━━━━━━━━━━━━━━━\u001b[0m \u001b[32m952.8/952.8 kB\u001b[0m \u001b[31m2.7 MB/s\u001b[0m eta \u001b[36m0:00:00\u001b[0m00:01\u001b[0m00:01\u001b[0m\n",
      "\u001b[?25hRequirement already satisfied: importlib-metadata in /Users/vpi/miniforge3/envs/sa/lib/python3.8/site-packages (from numba->shap) (4.11.4)\n",
      "Collecting llvmlite<0.40,>=0.39.0dev0\n",
      "  Downloading llvmlite-0.39.1-cp38-cp38-macosx_11_0_arm64.whl (23.1 MB)\n",
      "\u001b[2K     \u001b[90m━━━━━━━━━━━━━━━━━━━━━━━━━━━━━━━━━━━━━━━━\u001b[0m \u001b[32m23.1/23.1 MB\u001b[0m \u001b[31m2.9 MB/s\u001b[0m eta \u001b[36m0:00:00\u001b[0m00:01\u001b[0m00:01\u001b[0m\n",
      "\u001b[?25hRequirement already satisfied: python-dateutil>=2.8.1 in /Users/vpi/miniforge3/envs/sa/lib/python3.8/site-packages (from pandas->shap) (2.8.2)\n",
      "Requirement already satisfied: pytz>=2020.1 in /Users/vpi/miniforge3/envs/sa/lib/python3.8/site-packages (from pandas->shap) (2022.2.1)\n",
      "Requirement already satisfied: threadpoolctl>=2.0.0 in /Users/vpi/miniforge3/envs/sa/lib/python3.8/site-packages (from scikit-learn->shap) (3.1.0)\n",
      "Requirement already satisfied: joblib>=1.0.0 in /Users/vpi/miniforge3/envs/sa/lib/python3.8/site-packages (from scikit-learn->shap) (1.1.0)\n",
      "Requirement already satisfied: six>=1.5 in /Users/vpi/miniforge3/envs/sa/lib/python3.8/site-packages (from python-dateutil>=2.8.1->pandas->shap) (1.16.0)\n",
      "Requirement already satisfied: zipp>=0.5 in /Users/vpi/miniforge3/envs/sa/lib/python3.8/site-packages (from importlib-metadata->numba->shap) (3.8.1)\n",
      "Building wheels for collected packages: shap\n",
      "  Building wheel for shap (pyproject.toml) ... \u001b[?25ldone\n",
      "\u001b[?25h  Created wheel for shap: filename=shap-0.41.0-cp38-cp38-macosx_11_0_arm64.whl size=431111 sha256=0f2d53b5186e15c6e48659f35f5a3823cd79a087c3510ad0883a94f959537bd2\n",
      "  Stored in directory: /Users/vpi/Library/Caches/pip/wheels/46/09/7d/59edc0110ee50c4147d0c471e24ba1b46dcb741d38e9ba892b\n",
      "Successfully built shap\n",
      "Installing collected packages: slicer, setuptools, llvmlite, cloudpickle, numba, shap\n",
      "  Attempting uninstall: setuptools\n",
      "    Found existing installation: setuptools 65.1.1\n",
      "    Uninstalling setuptools-65.1.1:\n",
      "      Successfully uninstalled setuptools-65.1.1\n",
      "Successfully installed cloudpickle-2.2.0 llvmlite-0.39.1 numba-0.56.2 setuptools-59.8.0 shap-0.41.0 slicer-0.0.7\n"
     ]
    },
    {
     "ename": "ModuleNotFoundError",
     "evalue": "No module named 'tpot'",
     "output_type": "error",
     "traceback": [
      "\u001b[0;31m---------------------------------------------------------------------------\u001b[0m",
      "\u001b[0;31mModuleNotFoundError\u001b[0m                       Traceback (most recent call last)",
      "Input \u001b[0;32mIn [7]\u001b[0m, in \u001b[0;36m<cell line: 3>\u001b[0;34m()\u001b[0m\n\u001b[1;32m      1\u001b[0m get_ipython()\u001b[38;5;241m.\u001b[39msystem(\u001b[38;5;124m'\u001b[39m\u001b[38;5;124mpip install shap\u001b[39m\u001b[38;5;124m'\u001b[39m)\n\u001b[1;32m      2\u001b[0m \u001b[38;5;28;01mimport\u001b[39;00m \u001b[38;5;21;01mshap\u001b[39;00m\n\u001b[0;32m----> 3\u001b[0m \u001b[38;5;28;01mimport\u001b[39;00m \u001b[38;5;21;01mtpot\u001b[39;00m\n\u001b[1;32m      4\u001b[0m \u001b[38;5;28;01mimport\u001b[39;00m \u001b[38;5;21;01mstreamlit\u001b[39;00m \u001b[38;5;28;01mas\u001b[39;00m \u001b[38;5;21;01mst\u001b[39;00m\n",
      "\u001b[0;31mModuleNotFoundError\u001b[0m: No module named 'tpot'"
     ]
    }
   ],
   "source": [
    "!pip install shap\n",
    "import shap"
   ]
  },
  {
   "cell_type": "code",
   "execution_count": 8,
   "metadata": {},
   "outputs": [
    {
     "name": "stdout",
     "output_type": "stream",
     "text": [
      "Collecting tpot\n",
      "  Downloading TPOT-0.11.7-py3-none-any.whl (87 kB)\n",
      "\u001b[2K     \u001b[90m━━━━━━━━━━━━━━━━━━━━━━━━━━━━━━━━━━━━━━━\u001b[0m \u001b[32m87.2/87.2 kB\u001b[0m \u001b[31m372.5 kB/s\u001b[0m eta \u001b[36m0:00:00\u001b[0ma \u001b[36m0:00:01\u001b[0m\n",
      "\u001b[?25hRequirement already satisfied: joblib>=0.13.2 in /Users/vpi/miniforge3/envs/sa/lib/python3.8/site-packages (from tpot) (1.1.0)\n",
      "Requirement already satisfied: scikit-learn>=0.22.0 in /Users/vpi/miniforge3/envs/sa/lib/python3.8/site-packages (from tpot) (1.1.2)\n",
      "Requirement already satisfied: update-checker>=0.16 in /Users/vpi/miniforge3/envs/sa/lib/python3.8/site-packages (from tpot) (0.18.0)\n",
      "Requirement already satisfied: numpy>=1.16.3 in /Users/vpi/miniforge3/envs/sa/lib/python3.8/site-packages (from tpot) (1.23.2)\n",
      "Requirement already satisfied: scipy>=1.3.1 in /Users/vpi/miniforge3/envs/sa/lib/python3.8/site-packages (from tpot) (1.9.1)\n",
      "Requirement already satisfied: pandas>=0.24.2 in /Users/vpi/miniforge3/envs/sa/lib/python3.8/site-packages (from tpot) (1.4.3)\n",
      "Collecting xgboost>=1.1.0\n",
      "  Downloading xgboost-1.6.2-py3-none-macosx_12_0_arm64.whl (1.5 MB)\n",
      "\u001b[2K     \u001b[90m━━━━━━━━━━━━━━━━━━━━━━━━━━━━━━━━━━━━━━━━\u001b[0m \u001b[32m1.5/1.5 MB\u001b[0m \u001b[31m2.2 MB/s\u001b[0m eta \u001b[36m0:00:00\u001b[0m00:01\u001b[0m00:01\u001b[0m\n",
      "\u001b[?25hRequirement already satisfied: tqdm>=4.36.1 in /Users/vpi/miniforge3/envs/sa/lib/python3.8/site-packages (from tpot) (4.64.0)\n",
      "Collecting deap>=1.2\n",
      "  Downloading deap-1.3.3.tar.gz (1.1 MB)\n",
      "\u001b[2K     \u001b[90m━━━━━━━━━━━━━━━━━━━━━━━━━━━━━━━━━━━━━━━━\u001b[0m \u001b[32m1.1/1.1 MB\u001b[0m \u001b[31m2.7 MB/s\u001b[0m eta \u001b[36m0:00:00\u001b[0ma \u001b[36m0:00:01\u001b[0m\n",
      "\u001b[?25h  Preparing metadata (setup.py) ... \u001b[?25ldone\n",
      "\u001b[?25hCollecting stopit>=1.1.1\n",
      "  Downloading stopit-1.1.2.tar.gz (18 kB)\n",
      "  Preparing metadata (setup.py) ... \u001b[?25ldone\n",
      "\u001b[?25hRequirement already satisfied: pytz>=2020.1 in /Users/vpi/miniforge3/envs/sa/lib/python3.8/site-packages (from pandas>=0.24.2->tpot) (2022.2.1)\n",
      "Requirement already satisfied: python-dateutil>=2.8.1 in /Users/vpi/miniforge3/envs/sa/lib/python3.8/site-packages (from pandas>=0.24.2->tpot) (2.8.2)\n",
      "Requirement already satisfied: threadpoolctl>=2.0.0 in /Users/vpi/miniforge3/envs/sa/lib/python3.8/site-packages (from scikit-learn>=0.22.0->tpot) (3.1.0)\n",
      "Requirement already satisfied: requests>=2.3.0 in /Users/vpi/miniforge3/envs/sa/lib/python3.8/site-packages (from update-checker>=0.16->tpot) (2.28.1)\n",
      "Requirement already satisfied: six>=1.5 in /Users/vpi/miniforge3/envs/sa/lib/python3.8/site-packages (from python-dateutil>=2.8.1->pandas>=0.24.2->tpot) (1.16.0)\n",
      "Requirement already satisfied: urllib3<1.27,>=1.21.1 in /Users/vpi/miniforge3/envs/sa/lib/python3.8/site-packages (from requests>=2.3.0->update-checker>=0.16->tpot) (1.26.11)\n",
      "Requirement already satisfied: idna<4,>=2.5 in /Users/vpi/miniforge3/envs/sa/lib/python3.8/site-packages (from requests>=2.3.0->update-checker>=0.16->tpot) (3.3)\n",
      "Requirement already satisfied: charset-normalizer<3,>=2 in /Users/vpi/miniforge3/envs/sa/lib/python3.8/site-packages (from requests>=2.3.0->update-checker>=0.16->tpot) (2.1.1)\n",
      "Requirement already satisfied: certifi>=2017.4.17 in /Users/vpi/miniforge3/envs/sa/lib/python3.8/site-packages (from requests>=2.3.0->update-checker>=0.16->tpot) (2022.6.15)\n",
      "Building wheels for collected packages: deap, stopit\n",
      "  Building wheel for deap (setup.py) ... \u001b[?25ldone\n",
      "\u001b[?25h  Created wheel for deap: filename=deap-1.3.3-cp38-cp38-macosx_11_0_arm64.whl size=108161 sha256=6eec41a0ae0a544797cda267c518e91fa2485fb209eed13fc067449bce0b71c4\n",
      "  Stored in directory: /Users/vpi/Library/Caches/pip/wheels/9f/27/f0/13ec4df9c018434e3f3839aee32c95624bbdc98c9b603aaed9\n",
      "  Building wheel for stopit (setup.py) ... \u001b[?25ldone\n",
      "\u001b[?25h  Created wheel for stopit: filename=stopit-1.1.2-py3-none-any.whl size=11956 sha256=e45227ec03f3007bd5bb65a6d77625ea81a95ea6c24275c2ce9b1af60882a989\n",
      "  Stored in directory: /Users/vpi/Library/Caches/pip/wheels/a8/bb/8f/6b9328d23c2dcedbfeb8498b9f650d55d463089e3b8fc0bfb2\n",
      "Successfully built deap stopit\n",
      "Installing collected packages: stopit, deap, xgboost, tpot\n",
      "Successfully installed deap-1.3.3 stopit-1.1.2 tpot-0.11.7 xgboost-1.6.2\n"
     ]
    },
    {
     "ename": "ModuleNotFoundError",
     "evalue": "No module named 'streamlit'",
     "output_type": "error",
     "traceback": [
      "\u001b[0;31m---------------------------------------------------------------------------\u001b[0m",
      "\u001b[0;31mModuleNotFoundError\u001b[0m                       Traceback (most recent call last)",
      "Input \u001b[0;32mIn [8]\u001b[0m, in \u001b[0;36m<cell line: 3>\u001b[0;34m()\u001b[0m\n\u001b[1;32m      1\u001b[0m get_ipython()\u001b[38;5;241m.\u001b[39msystem(\u001b[38;5;124m'\u001b[39m\u001b[38;5;124mpip install tpot\u001b[39m\u001b[38;5;124m'\u001b[39m)\n\u001b[1;32m      2\u001b[0m \u001b[38;5;28;01mimport\u001b[39;00m \u001b[38;5;21;01mtpot\u001b[39;00m\n\u001b[0;32m----> 3\u001b[0m \u001b[38;5;28;01mimport\u001b[39;00m \u001b[38;5;21;01mstreamlit\u001b[39;00m \u001b[38;5;28;01mas\u001b[39;00m \u001b[38;5;21;01mst\u001b[39;00m\n",
      "\u001b[0;31mModuleNotFoundError\u001b[0m: No module named 'streamlit'"
     ]
    }
   ],
   "source": [
    "!pip install tpot\n",
    "import tpot"
   ]
  },
  {
   "cell_type": "code",
   "execution_count": 9,
   "metadata": {},
   "outputs": [
    {
     "name": "stdout",
     "output_type": "stream",
     "text": [
      "Collecting streamlit\n",
      "  Downloading streamlit-1.12.2-py2.py3-none-any.whl (9.1 MB)\n",
      "\u001b[2K     \u001b[90m━━━━━━━━━━━━━━━━━━━━━━━━━━━━━━━━━━━━━━━━\u001b[0m \u001b[32m9.1/9.1 MB\u001b[0m \u001b[31m2.2 MB/s\u001b[0m eta \u001b[36m0:00:00\u001b[0m00:01\u001b[0m00:01\u001b[0m\n",
      "\u001b[?25hRequirement already satisfied: python-dateutil in /Users/vpi/miniforge3/envs/sa/lib/python3.8/site-packages (from streamlit) (2.8.2)\n",
      "Requirement already satisfied: pillow>=6.2.0 in /Users/vpi/miniforge3/envs/sa/lib/python3.8/site-packages (from streamlit) (9.2.0)\n",
      "Requirement already satisfied: pandas>=0.21.0 in /Users/vpi/miniforge3/envs/sa/lib/python3.8/site-packages (from streamlit) (1.4.3)\n",
      "Collecting pympler>=0.9\n",
      "  Downloading Pympler-1.0.1-py3-none-any.whl (164 kB)\n",
      "\u001b[2K     \u001b[90m━━━━━━━━━━━━━━━━━━━━━━━━━━━━━━━━━━━━━━━\u001b[0m \u001b[32m164.8/164.8 kB\u001b[0m \u001b[31m2.2 MB/s\u001b[0m eta \u001b[36m0:00:00\u001b[0ma \u001b[36m0:00:01\u001b[0m\n",
      "\u001b[?25hRequirement already satisfied: requests>=2.4 in /Users/vpi/miniforge3/envs/sa/lib/python3.8/site-packages (from streamlit) (2.28.1)\n",
      "Collecting protobuf<4,>=3.12\n",
      "  Downloading protobuf-3.20.2-py2.py3-none-any.whl (162 kB)\n",
      "\u001b[2K     \u001b[90m━━━━━━━━━━━━━━━━━━━━━━━━━━━━━━━━━━━━━━━\u001b[0m \u001b[32m162.1/162.1 kB\u001b[0m \u001b[31m2.1 MB/s\u001b[0m eta \u001b[36m0:00:00\u001b[0ma \u001b[36m0:00:01\u001b[0m\n",
      "\u001b[?25hRequirement already satisfied: packaging>=14.1 in /Users/vpi/miniforge3/envs/sa/lib/python3.8/site-packages (from streamlit) (21.3)\n",
      "Collecting altair>=3.2.0\n",
      "  Downloading altair-4.2.0-py3-none-any.whl (812 kB)\n",
      "\u001b[2K     \u001b[90m━━━━━━━━━━━━━━━━━━━━━━━━━━━━━━━━━━━━━━━\u001b[0m \u001b[32m812.8/812.8 kB\u001b[0m \u001b[31m2.4 MB/s\u001b[0m eta \u001b[36m0:00:00\u001b[0m00:01\u001b[0m00:01\u001b[0m\n",
      "\u001b[?25hRequirement already satisfied: numpy in /Users/vpi/miniforge3/envs/sa/lib/python3.8/site-packages (from streamlit) (1.23.2)\n",
      "Collecting tzlocal>=1.1\n",
      "  Downloading tzlocal-4.2-py3-none-any.whl (19 kB)\n",
      "Collecting cachetools>=4.0\n",
      "  Downloading cachetools-5.2.0-py3-none-any.whl (9.3 kB)\n",
      "Requirement already satisfied: tornado>=5.0 in /Users/vpi/miniforge3/envs/sa/lib/python3.8/site-packages (from streamlit) (6.2)\n",
      "Collecting blinker>=1.0.0\n",
      "  Using cached blinker-1.5-py2.py3-none-any.whl (12 kB)\n",
      "Collecting validators>=0.2\n",
      "  Downloading validators-0.20.0.tar.gz (30 kB)\n",
      "  Preparing metadata (setup.py) ... \u001b[?25ldone\n",
      "\u001b[?25hCollecting rich>=10.11.0\n",
      "  Using cached rich-12.5.1-py3-none-any.whl (235 kB)\n",
      "Collecting gitpython!=3.1.19\n",
      "  Downloading GitPython-3.1.27-py3-none-any.whl (181 kB)\n",
      "\u001b[2K     \u001b[90m━━━━━━━━━━━━━━━━━━━━━━━━━━━━━━━━━━━━━━━\u001b[0m \u001b[32m181.2/181.2 kB\u001b[0m \u001b[31m2.1 MB/s\u001b[0m eta \u001b[36m0:00:00\u001b[0ma \u001b[36m0:00:01\u001b[0m\n",
      "\u001b[?25hCollecting pyarrow>=4.0\n",
      "  Downloading pyarrow-9.0.0-cp38-cp38-macosx_11_0_arm64.whl (21.6 MB)\n",
      "\u001b[2K     \u001b[90m━━━━━━━━━━━━━━━━━━━━━━━━━━━━━━━━━━━━━━━━\u001b[0m \u001b[32m21.6/21.6 MB\u001b[0m \u001b[31m2.5 MB/s\u001b[0m eta \u001b[36m0:00:00\u001b[0m00:01\u001b[0m00:01\u001b[0m\n",
      "\u001b[?25hCollecting toml\n",
      "  Downloading toml-0.10.2-py2.py3-none-any.whl (16 kB)\n",
      "Requirement already satisfied: typing-extensions>=3.10.0.0 in /Users/vpi/miniforge3/envs/sa/lib/python3.8/site-packages (from streamlit) (4.3.0)\n",
      "Collecting pydeck>=0.1.dev5\n",
      "  Downloading pydeck-0.8.0b3-py2.py3-none-any.whl (4.7 MB)\n",
      "\u001b[2K     \u001b[90m━━━━━━━━━━━━━━━━━━━━━━━━━━━━━━━━━━━━━━━━\u001b[0m \u001b[32m4.7/4.7 MB\u001b[0m \u001b[31m2.7 MB/s\u001b[0m eta \u001b[36m0:00:00\u001b[0m00:01\u001b[0m00:01\u001b[0m\n",
      "\u001b[?25hCollecting click>=7.0\n",
      "  Using cached click-8.1.3-py3-none-any.whl (96 kB)\n",
      "Collecting semver\n",
      "  Downloading semver-2.13.0-py2.py3-none-any.whl (12 kB)\n",
      "Requirement already satisfied: importlib-metadata>=1.4 in /Users/vpi/miniforge3/envs/sa/lib/python3.8/site-packages (from streamlit) (4.11.4)\n",
      "Collecting toolz\n",
      "  Downloading toolz-0.12.0-py3-none-any.whl (55 kB)\n",
      "\u001b[2K     \u001b[90m━━━━━━━━━━━━━━━━━━━━━━━━━━━━━━━━━━━━━━━━\u001b[0m \u001b[32m55.8/55.8 kB\u001b[0m \u001b[31m1.5 MB/s\u001b[0m eta \u001b[36m0:00:00\u001b[0m\n",
      "\u001b[?25hRequirement already satisfied: entrypoints in /Users/vpi/miniforge3/envs/sa/lib/python3.8/site-packages (from altair>=3.2.0->streamlit) (0.4)\n",
      "Requirement already satisfied: jinja2 in /Users/vpi/miniforge3/envs/sa/lib/python3.8/site-packages (from altair>=3.2.0->streamlit) (3.1.2)\n",
      "Requirement already satisfied: jsonschema>=3.0 in /Users/vpi/miniforge3/envs/sa/lib/python3.8/site-packages (from altair>=3.2.0->streamlit) (4.9.1)\n",
      "Collecting gitdb<5,>=4.0.1\n",
      "  Downloading gitdb-4.0.9-py3-none-any.whl (63 kB)\n",
      "\u001b[2K     \u001b[90m━━━━━━━━━━━━━━━━━━━━━━━━━━━━━━━━━━━━━━━━\u001b[0m \u001b[32m63.1/63.1 kB\u001b[0m \u001b[31m1.4 MB/s\u001b[0m eta \u001b[36m0:00:00\u001b[0ma \u001b[36m0:00:01\u001b[0m\n",
      "\u001b[?25hRequirement already satisfied: zipp>=0.5 in /Users/vpi/miniforge3/envs/sa/lib/python3.8/site-packages (from importlib-metadata>=1.4->streamlit) (3.8.1)\n",
      "Requirement already satisfied: pyparsing!=3.0.5,>=2.0.2 in /Users/vpi/miniforge3/envs/sa/lib/python3.8/site-packages (from packaging>=14.1->streamlit) (3.0.9)\n",
      "Requirement already satisfied: pytz>=2020.1 in /Users/vpi/miniforge3/envs/sa/lib/python3.8/site-packages (from pandas>=0.21.0->streamlit) (2022.2.1)\n",
      "Requirement already satisfied: six>=1.5 in /Users/vpi/miniforge3/envs/sa/lib/python3.8/site-packages (from python-dateutil->streamlit) (1.16.0)\n",
      "Requirement already satisfied: urllib3<1.27,>=1.21.1 in /Users/vpi/miniforge3/envs/sa/lib/python3.8/site-packages (from requests>=2.4->streamlit) (1.26.11)\n",
      "Requirement already satisfied: certifi>=2017.4.17 in /Users/vpi/miniforge3/envs/sa/lib/python3.8/site-packages (from requests>=2.4->streamlit) (2022.6.15)\n",
      "Requirement already satisfied: idna<4,>=2.5 in /Users/vpi/miniforge3/envs/sa/lib/python3.8/site-packages (from requests>=2.4->streamlit) (3.3)\n",
      "Requirement already satisfied: charset-normalizer<3,>=2 in /Users/vpi/miniforge3/envs/sa/lib/python3.8/site-packages (from requests>=2.4->streamlit) (2.1.1)\n",
      "Requirement already satisfied: pygments<3.0.0,>=2.6.0 in /Users/vpi/miniforge3/envs/sa/lib/python3.8/site-packages (from rich>=10.11.0->streamlit) (2.13.0)\n",
      "Collecting commonmark<0.10.0,>=0.9.0\n",
      "  Using cached commonmark-0.9.1-py2.py3-none-any.whl (51 kB)\n",
      "Collecting backports.zoneinfo\n",
      "  Downloading backports.zoneinfo-0.2.1.tar.gz (74 kB)\n",
      "\u001b[2K     \u001b[90m━━━━━━━━━━━━━━━━━━━━━━━━━━━━━━━━━━━━━━━━\u001b[0m \u001b[32m74.1/74.1 kB\u001b[0m \u001b[31m1.5 MB/s\u001b[0m eta \u001b[36m0:00:00\u001b[0ma \u001b[36m0:00:01\u001b[0m\n",
      "\u001b[?25h  Installing build dependencies ... \u001b[?25ldone\n",
      "\u001b[?25h  Getting requirements to build wheel ... \u001b[?25ldone\n",
      "\u001b[?25h  Preparing metadata (pyproject.toml) ... \u001b[?25ldone\n",
      "\u001b[?25hCollecting pytz-deprecation-shim\n",
      "  Downloading pytz_deprecation_shim-0.1.0.post0-py2.py3-none-any.whl (15 kB)\n",
      "Requirement already satisfied: decorator>=3.4.0 in /Users/vpi/miniforge3/envs/sa/lib/python3.8/site-packages (from validators>=0.2->streamlit) (5.1.1)\n",
      "Collecting smmap<6,>=3.0.1\n",
      "  Downloading smmap-5.0.0-py3-none-any.whl (24 kB)\n",
      "Requirement already satisfied: MarkupSafe>=2.0 in /Users/vpi/miniforge3/envs/sa/lib/python3.8/site-packages (from jinja2->altair>=3.2.0->streamlit) (2.1.1)\n",
      "Requirement already satisfied: pyrsistent!=0.17.0,!=0.17.1,!=0.17.2,>=0.14.0 in /Users/vpi/miniforge3/envs/sa/lib/python3.8/site-packages (from jsonschema>=3.0->altair>=3.2.0->streamlit) (0.18.1)\n",
      "Requirement already satisfied: importlib-resources>=1.4.0 in /Users/vpi/miniforge3/envs/sa/lib/python3.8/site-packages (from jsonschema>=3.0->altair>=3.2.0->streamlit) (5.9.0)\n",
      "Requirement already satisfied: pkgutil-resolve-name>=1.3.10 in /Users/vpi/miniforge3/envs/sa/lib/python3.8/site-packages (from jsonschema>=3.0->altair>=3.2.0->streamlit) (1.3.10)\n",
      "Requirement already satisfied: attrs>=17.4.0 in /Users/vpi/miniforge3/envs/sa/lib/python3.8/site-packages (from jsonschema>=3.0->altair>=3.2.0->streamlit) (22.1.0)\n",
      "Collecting tzdata\n",
      "  Downloading tzdata-2022.2-py2.py3-none-any.whl (336 kB)\n",
      "\u001b[2K     \u001b[90m━━━━━━━━━━━━━━━━━━━━━━━━━━━━━━━━━━━━━━━\u001b[0m \u001b[32m336.4/336.4 kB\u001b[0m \u001b[31m2.4 MB/s\u001b[0m eta \u001b[36m0:00:00\u001b[0ma \u001b[36m0:00:01\u001b[0m\n",
      "\u001b[?25hBuilding wheels for collected packages: validators, backports.zoneinfo\n",
      "  Building wheel for validators (setup.py) ... \u001b[?25ldone\n",
      "\u001b[?25h  Created wheel for validators: filename=validators-0.20.0-py3-none-any.whl size=19582 sha256=ccda783836d0005501daba239a29ce5cbf5a1acd04b92662eb0bba6acc595fa0\n",
      "  Stored in directory: /Users/vpi/Library/Caches/pip/wheels/19/09/72/3eb74d236bb48bd0f3c6c3c83e4e0c5bbfcbcad7c6c3539db8\n",
      "  Building wheel for backports.zoneinfo (pyproject.toml) ... \u001b[?25ldone\n",
      "\u001b[?25h  Created wheel for backports.zoneinfo: filename=backports.zoneinfo-0.2.1-cp38-cp38-macosx_11_0_arm64.whl size=35164 sha256=be8d18a890020fb75608699ae2e0293df95f04bc63dbc8936f80e7f4efdf1efd\n",
      "  Stored in directory: /Users/vpi/Library/Caches/pip/wheels/c7/de/cc/c405827ed64f81b56142f1e0075a970b2731b00d21983d54fb\n",
      "Successfully built validators backports.zoneinfo\n"
     ]
    },
    {
     "name": "stdout",
     "output_type": "stream",
     "text": [
      "Installing collected packages: commonmark, validators, tzdata, toolz, toml, smmap, semver, rich, pympler, pyarrow, protobuf, click, cachetools, blinker, backports.zoneinfo, pytz-deprecation-shim, pydeck, gitdb, tzlocal, gitpython, altair, streamlit\n",
      "Successfully installed altair-4.2.0 backports.zoneinfo-0.2.1 blinker-1.5 cachetools-5.2.0 click-8.1.3 commonmark-0.9.1 gitdb-4.0.9 gitpython-3.1.27 protobuf-3.20.2 pyarrow-9.0.0 pydeck-0.8.0b3 pympler-1.0.1 pytz-deprecation-shim-0.1.0.post0 rich-12.5.1 semver-2.13.0 smmap-5.0.0 streamlit-1.12.2 toml-0.10.2 toolz-0.12.0 tzdata-2022.2 tzlocal-4.2 validators-0.20.0\n"
     ]
    }
   ],
   "source": [
    "!pip install streamlit\n",
    "import streamlit as st"
   ]
  },
  {
   "cell_type": "code",
   "execution_count": null,
   "metadata": {},
   "outputs": [],
   "source": []
  }
 ],
 "metadata": {
  "kernelspec": {
   "display_name": "Python 3 (ipykernel)",
   "language": "python",
   "name": "python3"
  },
  "language_info": {
   "codemirror_mode": {
    "name": "ipython",
    "version": 3
   },
   "file_extension": ".py",
   "mimetype": "text/x-python",
   "name": "python",
   "nbconvert_exporter": "python",
   "pygments_lexer": "ipython3",
   "version": "3.8.13"
  },
  "toc": {
   "base_numbering": 1,
   "nav_menu": {},
   "number_sections": true,
   "sideBar": true,
   "skip_h1_title": false,
   "title_cell": "Table of Contents",
   "title_sidebar": "Contents",
   "toc_cell": false,
   "toc_position": {},
   "toc_section_display": true,
   "toc_window_display": false
  },
  "vscode": {
   "interpreter": {
    "hash": "c57794392b841cffd8686d5c4548e4e2ec78521f49300d60954d1380f1b4bd1f"
   }
  }
 },
 "nbformat": 4,
 "nbformat_minor": 2
}
